{
 "cells": [
  {
   "cell_type": "markdown",
   "metadata": {},
   "source": []
  },
  {
   "cell_type": "markdown",
   "metadata": {},
   "source": []
  },
  {
   "cell_type": "markdown",
   "metadata": {},
   "source": []
  },
  {
   "cell_type": "code",
   "execution_count": null,
   "metadata": {},
   "outputs": [],
   "source": [
    "# Import Libraries\n",
    "import numpy as np\n",
    "import matplotlib.pyplot as plt\n",
    "from sklearn.datasets import make_blobs, make_moons\n",
    "from sklearn.cluster import (\n",
    "    KMeans, \n",
    "    AgglomerativeClustering, \n",
    "    DBSCAN, \n",
    "    SpectralClustering, \n",
    "    Birch, \n",
    "    MeanShift, \n",
    "    AffinityPropagation\n",
    ")\n",
    "from sklearn.mixture import GaussianMixture\n",
    "from sklearn.preprocessing import StandardScaler\n",
    "from sklearn_extra.cluster import KMedoids\n",
    "from sklearn.cluster import OPTICS\n",
    "import hdbscan\n",
    "import time\n"
   ]
  },
  {
   "cell_type": "code",
   "execution_count": null,
   "metadata": {},
   "outputs": [],
   "source": [
    "\n",
    "# Generate datasets\n",
    "def generate_datasets():\n",
    "    datasets = []\n",
    "    n_samples = 1500\n",
    "    random_state = 170\n",
    "    noisy_circles = make_blobs(n_samples=n_samples, centers=[[0, 0], [1, 1]], random_state=random_state)\n",
    "    noisy_moons = make_moons(n_samples=n_samples, noise=0.05, random_state=random_state)\n",
    "    blobs = make_blobs(n_samples=n_samples, random_state=random_state)\n",
    "    aniso = make_blobs(n_samples=n_samples, random_state=random_state)\n",
    "    transformation = [[0.6, -0.6], [-0.4, 0.8]]\n",
    "    aniso = (np.dot(aniso[0], transformation), aniso[1])\n",
    "    datasets.append(noisy_circles)\n",
    "    datasets.append(noisy_moons)\n",
    "    datasets.append(blobs)\n",
    "    datasets.append(aniso)\n",
    "    return datasets\n",
    "\n",
    "# Define clustering algorithms\n",
    "def define_algorithms():\n",
    "    algorithms = {\n",
    "        \"MiniBatch KMeans\": KMeans(n_clusters=3, random_state=42),\n",
    "        \"Affinity Propagation\": AffinityPropagation(random_state=42),\n",
    "        \"MeanShift\": MeanShift(),\n",
    "        \"Spectral Clustering\": SpectralClustering(n_clusters=3, affinity='nearest_neighbors'),\n",
    "        \"Ward\": AgglomerativeClustering(n_clusters=3, linkage='ward'),\n",
    "        \"Agglomerative Clustering\": AgglomerativeClustering(n_clusters=3),\n",
    "        \"DBSCAN\": DBSCAN(eps=0.2),\n",
    "        \"HDBSCAN\": hdbscan.HDBSCAN(min_cluster_size=30),\n",
    "        \"OPTICS\": OPTICS(min_samples=10),\n",
    "        \"BIRCH\": Birch(n_clusters=3),\n",
    "        \"Gaussian Mixture\": GaussianMixture(n_components=3, random_state=42)\n",
    "    }\n",
    "    return algorithms\n",
    "\n",
    "# Plot results\n",
    "def plot_results(datasets, algorithms):\n",
    "    fig, axes = plt.subplots(len(datasets), len(algorithms), figsize=(20, 15))\n",
    "    axes = axes.flatten()\n",
    "    \n",
    "    for i_dataset, dataset in enumerate(datasets):\n",
    "        X, y = dataset\n",
    "        X = StandardScaler().fit_transform(X)\n",
    "        \n",
    "        for i_alg, (name, algorithm) in enumerate(algorithms.items()):\n",
    "            t0 = time.time()\n",
    "            try:\n",
    "                if hasattr(algorithm, \"fit_predict\"):\n",
    "                    y_pred = algorithm.fit_predict(X)\n",
    "                else:\n",
    "                    y_pred = algorithm.fit(X).predict(X)\n",
    "            except Exception:\n",
    "                y_pred = np.zeros(X.shape[0])\n",
    "            t1 = time.time()\n",
    "            \n",
    "            # Plot\n",
    "            ax = axes[i_dataset * len(algorithms) + i_alg]\n",
    "            ax.scatter(X[:, 0], X[:, 1], c=y_pred, s=10, cmap='viridis')\n",
    "            ax.set_title(f\"{name}\\n{(t1 - t0):.2f}s\", fontsize=10)\n",
    "            ax.set_xticks([])\n",
    "            ax.set_yticks([])\n",
    "    \n",
    "    plt.tight_layout()\n",
    "    plt.show()\n",
    "\n",
    "# Main execution\n",
    "datasets = generate_datasets()\n",
    "algorithms = define_algorithms()\n",
    "plot_results(datasets, algorithms)\n"
   ]
  },
  {
   "cell_type": "markdown",
   "metadata": {},
   "source": []
  },
  {
   "cell_type": "markdown",
   "metadata": {},
   "source": []
  },
  {
   "cell_type": "markdown",
   "metadata": {},
   "source": []
  },
  {
   "cell_type": "markdown",
   "metadata": {},
   "source": []
  },
  {
   "cell_type": "markdown",
   "metadata": {},
   "source": []
  },
  {
   "cell_type": "markdown",
   "metadata": {},
   "source": []
  },
  {
   "cell_type": "markdown",
   "metadata": {},
   "source": []
  },
  {
   "cell_type": "markdown",
   "metadata": {},
   "source": []
  },
  {
   "cell_type": "markdown",
   "metadata": {},
   "source": []
  },
  {
   "cell_type": "markdown",
   "metadata": {},
   "source": []
  },
  {
   "cell_type": "markdown",
   "metadata": {},
   "source": []
  },
  {
   "cell_type": "markdown",
   "metadata": {},
   "source": []
  },
  {
   "cell_type": "markdown",
   "metadata": {},
   "source": []
  },
  {
   "cell_type": "markdown",
   "metadata": {},
   "source": []
  },
  {
   "cell_type": "markdown",
   "metadata": {},
   "source": []
  },
  {
   "cell_type": "markdown",
   "metadata": {},
   "source": []
  }
 ],
 "metadata": {
  "kernelspec": {
   "display_name": "base",
   "language": "python",
   "name": "python3"
  },
  "language_info": {
   "name": "python",
   "version": "3.11.7"
  }
 },
 "nbformat": 4,
 "nbformat_minor": 2
}
